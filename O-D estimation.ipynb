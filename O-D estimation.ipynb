{
 "cells": [
  {
   "cell_type": "code",
   "execution_count": 203,
   "metadata": {
    "collapsed": true
   },
   "outputs": [],
   "source": [
    "import pandas as pd\n",
    "import matplotlib.pyplot as plt\n",
    "import numpy as np\n",
    "import folium\n",
    "from sklearn.cluster import AgglomerativeClustering\n",
    "from scipy.spatial.distance import cdist\n",
    "%matplotlib inline"
   ]
  },
  {
   "cell_type": "code",
   "execution_count": 326,
   "metadata": {
    "collapsed": false
   },
   "outputs": [],
   "source": [
    "toy_data = [[1, \"1:3:12\", -23.613, -46.0443],\n",
    "            [1, \"1:3:13\", -23.613, -46.6443],\n",
    "            [1, \"1:3:50\", -23.713, -46.6443],\n",
    "            [1, \"1:4:12\", -23.814, -46.6443],\n",
    "            [1, \"1:4:13\", -23.613, -46.0443],\n",
    "            [1, \"1:4:50\", -23.713, -46.0443],\n",
    "            [2, \"1:3:12\", -23.313, -46.9443],\n",
    "            [2, \"1:3:13\", -23.513, -46.9443],\n",
    "            [2, \"1:3:50\", -23.713, -46.9443],\n",
    "            [2, \"1:4:12\", -23.314, -46.9443],\n",
    "            [2, \"1:4:13\", -23.513, -46.9443],\n",
    "            [2, \"1:4:50\", -23.713, -46.9443]]\n",
    "\n",
    "columns = [\"id\", \"time\", \"lat\", \"lon\"]\n",
    "columns_orig = [\"id_orig\", \"time_orig\", \"lat_orig\", \"long_orig\"]"
   ]
  },
  {
   "cell_type": "code",
   "execution_count": 363,
   "metadata": {
    "collapsed": false
   },
   "outputs": [
    {
     "data": {
      "text/html": [
       "<div>\n",
       "<style>\n",
       "    .dataframe thead tr:only-child th {\n",
       "        text-align: right;\n",
       "    }\n",
       "\n",
       "    .dataframe thead th {\n",
       "        text-align: left;\n",
       "    }\n",
       "\n",
       "    .dataframe tbody tr th {\n",
       "        vertical-align: top;\n",
       "    }\n",
       "</style>\n",
       "<table border=\"1\" class=\"dataframe\">\n",
       "  <thead>\n",
       "    <tr style=\"text-align: right;\">\n",
       "      <th></th>\n",
       "      <th>id</th>\n",
       "      <th>time</th>\n",
       "      <th>lat</th>\n",
       "      <th>lon</th>\n",
       "    </tr>\n",
       "  </thead>\n",
       "  <tbody>\n",
       "    <tr>\n",
       "      <th>0</th>\n",
       "      <td>440224</td>\n",
       "      <td>2017-10-07 14:31:45</td>\n",
       "      <td>-23.399715</td>\n",
       "      <td>-46.523525</td>\n",
       "    </tr>\n",
       "    <tr>\n",
       "      <th>1</th>\n",
       "      <td>440224</td>\n",
       "      <td>2017-10-03 16:09:11</td>\n",
       "      <td>-23.399715</td>\n",
       "      <td>-46.616001</td>\n",
       "    </tr>\n",
       "    <tr>\n",
       "      <th>2</th>\n",
       "      <td>440224</td>\n",
       "      <td>2017-10-06 12:15:18</td>\n",
       "      <td>-23.464047</td>\n",
       "      <td>-46.583242</td>\n",
       "    </tr>\n",
       "    <tr>\n",
       "      <th>3</th>\n",
       "      <td>440224</td>\n",
       "      <td>2017-10-05 14:23:16</td>\n",
       "      <td>-23.464047</td>\n",
       "      <td>-46.535917</td>\n",
       "    </tr>\n",
       "    <tr>\n",
       "      <th>4</th>\n",
       "      <td>440224</td>\n",
       "      <td>2017-10-01 22:04:33</td>\n",
       "      <td>-23.464047</td>\n",
       "      <td>-46.565727</td>\n",
       "    </tr>\n",
       "    <tr>\n",
       "      <th>5</th>\n",
       "      <td>440224</td>\n",
       "      <td>2017-10-02 22:19:52</td>\n",
       "      <td>-23.464047</td>\n",
       "      <td>-46.508462</td>\n",
       "    </tr>\n",
       "  </tbody>\n",
       "</table>\n",
       "</div>"
      ],
      "text/plain": [
       "       id                 time        lat        lon\n",
       "0  440224  2017-10-07 14:31:45 -23.399715 -46.523525\n",
       "1  440224  2017-10-03 16:09:11 -23.399715 -46.616001\n",
       "2  440224  2017-10-06 12:15:18 -23.464047 -46.583242\n",
       "3  440224  2017-10-05 14:23:16 -23.464047 -46.535917\n",
       "4  440224  2017-10-01 22:04:33 -23.464047 -46.565727\n",
       "5  440224  2017-10-02 22:19:52 -23.464047 -46.508462"
      ]
     },
     "execution_count": 363,
     "metadata": {},
     "output_type": "execute_result"
    }
   ],
   "source": [
    "john = pd.read_csv(\"./HackEMTU/dados_jaozinho\")\n",
    "john.columns = columns\n",
    "john"
   ]
  },
  {
   "cell_type": "code",
   "execution_count": 391,
   "metadata": {
    "collapsed": false
   },
   "outputs": [
    {
     "name": "stdout",
     "output_type": "stream",
     "text": [
      "(443, 5)\n",
      "   nothing       id       time        lat                  lon\n",
      "0        1   425787 -23.551603 -46.927933  2017-10-07 07:43:14\n",
      "1        2    97467 -23.551586 -46.927928  2017-10-07 07:59:13\n",
      "2        3  1011020 -23.551586 -46.927928  2017-10-07 07:59:13\n",
      "3        4   824560 -23.551586 -46.927928  2017-10-07 07:59:13\n",
      "4        5   270887 -23.551586 -46.927928  2017-10-07 07:59:13\n"
     ]
    },
    {
     "data": {
      "text/html": [
       "<div>\n",
       "<style>\n",
       "    .dataframe thead tr:only-child th {\n",
       "        text-align: right;\n",
       "    }\n",
       "\n",
       "    .dataframe thead th {\n",
       "        text-align: left;\n",
       "    }\n",
       "\n",
       "    .dataframe tbody tr th {\n",
       "        vertical-align: top;\n",
       "    }\n",
       "</style>\n",
       "<table border=\"1\" class=\"dataframe\">\n",
       "  <thead>\n",
       "    <tr style=\"text-align: right;\">\n",
       "      <th></th>\n",
       "      <th>id</th>\n",
       "      <th>time</th>\n",
       "      <th>lat</th>\n",
       "      <th>lon</th>\n",
       "    </tr>\n",
       "  </thead>\n",
       "  <tbody>\n",
       "    <tr>\n",
       "      <th>0</th>\n",
       "      <td>425787</td>\n",
       "      <td>2017-10-07 07:43:14</td>\n",
       "      <td>-23.551603</td>\n",
       "      <td>-46.927933</td>\n",
       "    </tr>\n",
       "    <tr>\n",
       "      <th>1</th>\n",
       "      <td>97467</td>\n",
       "      <td>2017-10-07 07:59:13</td>\n",
       "      <td>-23.551586</td>\n",
       "      <td>-46.927928</td>\n",
       "    </tr>\n",
       "    <tr>\n",
       "      <th>2</th>\n",
       "      <td>1011020</td>\n",
       "      <td>2017-10-07 07:59:13</td>\n",
       "      <td>-23.551586</td>\n",
       "      <td>-46.927928</td>\n",
       "    </tr>\n",
       "    <tr>\n",
       "      <th>3</th>\n",
       "      <td>824560</td>\n",
       "      <td>2017-10-07 07:59:13</td>\n",
       "      <td>-23.551586</td>\n",
       "      <td>-46.927928</td>\n",
       "    </tr>\n",
       "    <tr>\n",
       "      <th>4</th>\n",
       "      <td>270887</td>\n",
       "      <td>2017-10-07 07:59:13</td>\n",
       "      <td>-23.551586</td>\n",
       "      <td>-46.927928</td>\n",
       "    </tr>\n",
       "  </tbody>\n",
       "</table>\n",
       "</div>"
      ],
      "text/plain": [
       "        id                 time        lat        lon\n",
       "0   425787  2017-10-07 07:43:14 -23.551603 -46.927933\n",
       "1    97467  2017-10-07 07:59:13 -23.551586 -46.927928\n",
       "2  1011020  2017-10-07 07:59:13 -23.551586 -46.927928\n",
       "3   824560  2017-10-07 07:59:13 -23.551586 -46.927928\n",
       "4   270887  2017-10-07 07:59:13 -23.551586 -46.927928"
      ]
     },
     "execution_count": 391,
     "metadata": {},
     "output_type": "execute_result"
    }
   ],
   "source": [
    "merged = pd.read_csv(\"./HackEMTU/merged.csv\")\n",
    "print(merged.shape)\n",
    "merged.columns = [\"nothing\"] + columns\n",
    "print(merged.head(5))\n",
    "merged_new = pd.concat([merged.id, merged.lon, merged.time, merged.lat], axis=1)\n",
    "merged_new.columns = columns\n",
    "merged_new.head(5)\n"
   ]
  },
  {
   "cell_type": "code",
   "execution_count": 378,
   "metadata": {
    "collapsed": false
   },
   "outputs": [],
   "source": [
    "df = pd.DataFrame(toy_data, columns=columns)"
   ]
  },
  {
   "cell_type": "code",
   "execution_count": 379,
   "metadata": {
    "collapsed": true
   },
   "outputs": [],
   "source": [
    "df.time = pd.to_datetime(df.time, format='%d:%H:%M')#format='%Y-%m-%d %H:%M:%S')"
   ]
  },
  {
   "cell_type": "code",
   "execution_count": 380,
   "metadata": {
    "collapsed": true
   },
   "outputs": [],
   "source": [
    "john.time = pd.to_datetime(john.time, format='%Y-%m-%d %H:%M:%S')"
   ]
  },
  {
   "cell_type": "code",
   "execution_count": 395,
   "metadata": {
    "collapsed": false
   },
   "outputs": [],
   "source": [
    "merged_new.time = pd.to_datetime(merged_new.time, format='%Y-%m-%d %H:%M:%S')"
   ]
  },
  {
   "cell_type": "code",
   "execution_count": 392,
   "metadata": {
    "collapsed": true
   },
   "outputs": [],
   "source": [
    "merged_new.lat = merged_new.lat.values + 0.1*np.random.random_sample((merged_new.shape[0],))"
   ]
  },
  {
   "cell_type": "code",
   "execution_count": 393,
   "metadata": {
    "collapsed": true
   },
   "outputs": [],
   "source": [
    "merged_new.lon = merged_new.lon.values + 0.1*np.random.random_sample((merged_new.shape[0],))"
   ]
  },
  {
   "cell_type": "code",
   "execution_count": 329,
   "metadata": {
    "collapsed": false
   },
   "outputs": [
    {
     "data": {
      "text/html": [
       "<div>\n",
       "<style>\n",
       "    .dataframe thead tr:only-child th {\n",
       "        text-align: right;\n",
       "    }\n",
       "\n",
       "    .dataframe thead th {\n",
       "        text-align: left;\n",
       "    }\n",
       "\n",
       "    .dataframe tbody tr th {\n",
       "        vertical-align: top;\n",
       "    }\n",
       "</style>\n",
       "<table border=\"1\" class=\"dataframe\">\n",
       "  <thead>\n",
       "    <tr style=\"text-align: right;\">\n",
       "      <th></th>\n",
       "      <th>id</th>\n",
       "      <th>time</th>\n",
       "      <th>lat</th>\n",
       "      <th>lon</th>\n",
       "    </tr>\n",
       "  </thead>\n",
       "  <tbody>\n",
       "    <tr>\n",
       "      <th>0</th>\n",
       "      <td>1</td>\n",
       "      <td>1900-01-01 03:12:00</td>\n",
       "      <td>-23.613</td>\n",
       "      <td>-46.0443</td>\n",
       "    </tr>\n",
       "    <tr>\n",
       "      <th>1</th>\n",
       "      <td>1</td>\n",
       "      <td>1900-01-01 03:13:00</td>\n",
       "      <td>-23.613</td>\n",
       "      <td>-46.6443</td>\n",
       "    </tr>\n",
       "    <tr>\n",
       "      <th>2</th>\n",
       "      <td>1</td>\n",
       "      <td>1900-01-01 03:50:00</td>\n",
       "      <td>-23.713</td>\n",
       "      <td>-46.6443</td>\n",
       "    </tr>\n",
       "    <tr>\n",
       "      <th>3</th>\n",
       "      <td>1</td>\n",
       "      <td>1900-01-01 04:12:00</td>\n",
       "      <td>-23.814</td>\n",
       "      <td>-46.6443</td>\n",
       "    </tr>\n",
       "    <tr>\n",
       "      <th>4</th>\n",
       "      <td>1</td>\n",
       "      <td>1900-01-01 04:13:00</td>\n",
       "      <td>-23.613</td>\n",
       "      <td>-46.0443</td>\n",
       "    </tr>\n",
       "    <tr>\n",
       "      <th>5</th>\n",
       "      <td>1</td>\n",
       "      <td>1900-01-01 04:50:00</td>\n",
       "      <td>-23.713</td>\n",
       "      <td>-46.0443</td>\n",
       "    </tr>\n",
       "    <tr>\n",
       "      <th>6</th>\n",
       "      <td>2</td>\n",
       "      <td>1900-01-01 03:12:00</td>\n",
       "      <td>-23.313</td>\n",
       "      <td>-46.9443</td>\n",
       "    </tr>\n",
       "    <tr>\n",
       "      <th>7</th>\n",
       "      <td>2</td>\n",
       "      <td>1900-01-01 03:13:00</td>\n",
       "      <td>-23.513</td>\n",
       "      <td>-46.9443</td>\n",
       "    </tr>\n",
       "    <tr>\n",
       "      <th>8</th>\n",
       "      <td>2</td>\n",
       "      <td>1900-01-01 03:50:00</td>\n",
       "      <td>-23.713</td>\n",
       "      <td>-46.9443</td>\n",
       "    </tr>\n",
       "    <tr>\n",
       "      <th>9</th>\n",
       "      <td>2</td>\n",
       "      <td>1900-01-01 04:12:00</td>\n",
       "      <td>-23.314</td>\n",
       "      <td>-46.9443</td>\n",
       "    </tr>\n",
       "    <tr>\n",
       "      <th>10</th>\n",
       "      <td>2</td>\n",
       "      <td>1900-01-01 04:13:00</td>\n",
       "      <td>-23.513</td>\n",
       "      <td>-46.9443</td>\n",
       "    </tr>\n",
       "    <tr>\n",
       "      <th>11</th>\n",
       "      <td>2</td>\n",
       "      <td>1900-01-01 04:50:00</td>\n",
       "      <td>-23.713</td>\n",
       "      <td>-46.9443</td>\n",
       "    </tr>\n",
       "  </tbody>\n",
       "</table>\n",
       "</div>"
      ],
      "text/plain": [
       "    id                time     lat      lon\n",
       "0    1 1900-01-01 03:12:00 -23.613 -46.0443\n",
       "1    1 1900-01-01 03:13:00 -23.613 -46.6443\n",
       "2    1 1900-01-01 03:50:00 -23.713 -46.6443\n",
       "3    1 1900-01-01 04:12:00 -23.814 -46.6443\n",
       "4    1 1900-01-01 04:13:00 -23.613 -46.0443\n",
       "5    1 1900-01-01 04:50:00 -23.713 -46.0443\n",
       "6    2 1900-01-01 03:12:00 -23.313 -46.9443\n",
       "7    2 1900-01-01 03:13:00 -23.513 -46.9443\n",
       "8    2 1900-01-01 03:50:00 -23.713 -46.9443\n",
       "9    2 1900-01-01 04:12:00 -23.314 -46.9443\n",
       "10   2 1900-01-01 04:13:00 -23.513 -46.9443\n",
       "11   2 1900-01-01 04:50:00 -23.713 -46.9443"
      ]
     },
     "execution_count": 329,
     "metadata": {},
     "output_type": "execute_result"
    }
   ],
   "source": [
    "df"
   ]
  },
  {
   "cell_type": "markdown",
   "metadata": {},
   "source": [
    "<h2>Remove estimated intersections in route:</h2>"
   ]
  },
  {
   "cell_type": "code",
   "execution_count": 330,
   "metadata": {
    "collapsed": false
   },
   "outputs": [],
   "source": [
    "def remove_inter(df):\n",
    "    clean_df = []\n",
    "\n",
    "    for name, group in df.groupby([\"id\"]):#, df.time.dt.day]):\n",
    "        #print(name, group)\n",
    "        group[\"cluster\"] = (group.time.diff() > pd.Timedelta(minutes=10)).cumsum()\n",
    "    \n",
    "        clean_df += [group.groupby(group.cluster).first()]\n",
    "        #print(group.groupby(group.cluster).first())#.sort_values(group.time).head(1))\n",
    "        #for name, g in group.groupby(group.cluster):\n",
    "            #print(name, g)\n",
    "        #print()\n",
    "        #print()\n",
    "\n",
    "    clean = pd.concat(clean_df)\n",
    "    return clean.drop(\"cluster\", axis=1)"
   ]
  },
  {
   "cell_type": "markdown",
   "metadata": {},
   "source": [
    "<h2>Estimate Destination:</h2>"
   ]
  },
  {
   "cell_type": "code",
   "execution_count": 331,
   "metadata": {
    "collapsed": false
   },
   "outputs": [
    {
     "name": "stderr",
     "output_type": "stream",
     "text": [
      "/home/luke/freya_home/luke/anaconda3/lib/python3.5/site-packages/ipykernel/__main__.py:6: SettingWithCopyWarning: \n",
      "A value is trying to be set on a copy of a slice from a DataFrame.\n",
      "Try using .loc[row_indexer,col_indexer] = value instead\n",
      "\n",
      "See the caveats in the documentation: http://pandas.pydata.org/pandas-docs/stable/indexing.html#indexing-view-versus-copy\n"
     ]
    },
    {
     "data": {
      "text/html": [
       "<div>\n",
       "<style>\n",
       "    .dataframe thead tr:only-child th {\n",
       "        text-align: right;\n",
       "    }\n",
       "\n",
       "    .dataframe thead th {\n",
       "        text-align: left;\n",
       "    }\n",
       "\n",
       "    .dataframe tbody tr th {\n",
       "        vertical-align: top;\n",
       "    }\n",
       "</style>\n",
       "<table border=\"1\" class=\"dataframe\">\n",
       "  <thead>\n",
       "    <tr style=\"text-align: right;\">\n",
       "      <th></th>\n",
       "      <th>id_orig</th>\n",
       "      <th>time_orig</th>\n",
       "      <th>lat_orig</th>\n",
       "      <th>long_orig</th>\n",
       "      <th>lat</th>\n",
       "      <th>lon</th>\n",
       "    </tr>\n",
       "    <tr>\n",
       "      <th>cluster</th>\n",
       "      <th></th>\n",
       "      <th></th>\n",
       "      <th></th>\n",
       "      <th></th>\n",
       "      <th></th>\n",
       "      <th></th>\n",
       "    </tr>\n",
       "  </thead>\n",
       "  <tbody>\n",
       "    <tr>\n",
       "      <th>0</th>\n",
       "      <td>1</td>\n",
       "      <td>1900-01-01 03:12:00</td>\n",
       "      <td>-23.613</td>\n",
       "      <td>-46.0443</td>\n",
       "      <td>-23.713</td>\n",
       "      <td>-46.6443</td>\n",
       "    </tr>\n",
       "    <tr>\n",
       "      <th>1</th>\n",
       "      <td>1</td>\n",
       "      <td>1900-01-01 03:50:00</td>\n",
       "      <td>-23.713</td>\n",
       "      <td>-46.6443</td>\n",
       "      <td>-23.814</td>\n",
       "      <td>-46.6443</td>\n",
       "    </tr>\n",
       "    <tr>\n",
       "      <th>2</th>\n",
       "      <td>1</td>\n",
       "      <td>1900-01-01 04:12:00</td>\n",
       "      <td>-23.814</td>\n",
       "      <td>-46.6443</td>\n",
       "      <td>-23.713</td>\n",
       "      <td>-46.0443</td>\n",
       "    </tr>\n",
       "    <tr>\n",
       "      <th>3</th>\n",
       "      <td>1</td>\n",
       "      <td>1900-01-01 04:50:00</td>\n",
       "      <td>-23.713</td>\n",
       "      <td>-46.0443</td>\n",
       "      <td>NaN</td>\n",
       "      <td>NaN</td>\n",
       "    </tr>\n",
       "    <tr>\n",
       "      <th>0</th>\n",
       "      <td>2</td>\n",
       "      <td>1900-01-01 03:12:00</td>\n",
       "      <td>-23.313</td>\n",
       "      <td>-46.9443</td>\n",
       "      <td>-23.713</td>\n",
       "      <td>-46.9443</td>\n",
       "    </tr>\n",
       "    <tr>\n",
       "      <th>1</th>\n",
       "      <td>2</td>\n",
       "      <td>1900-01-01 03:50:00</td>\n",
       "      <td>-23.713</td>\n",
       "      <td>-46.9443</td>\n",
       "      <td>-23.314</td>\n",
       "      <td>-46.9443</td>\n",
       "    </tr>\n",
       "    <tr>\n",
       "      <th>2</th>\n",
       "      <td>2</td>\n",
       "      <td>1900-01-01 04:12:00</td>\n",
       "      <td>-23.314</td>\n",
       "      <td>-46.9443</td>\n",
       "      <td>-23.713</td>\n",
       "      <td>-46.9443</td>\n",
       "    </tr>\n",
       "    <tr>\n",
       "      <th>3</th>\n",
       "      <td>2</td>\n",
       "      <td>1900-01-01 04:50:00</td>\n",
       "      <td>-23.713</td>\n",
       "      <td>-46.9443</td>\n",
       "      <td>NaN</td>\n",
       "      <td>NaN</td>\n",
       "    </tr>\n",
       "  </tbody>\n",
       "</table>\n",
       "</div>"
      ],
      "text/plain": [
       "         id_orig           time_orig  lat_orig  long_orig     lat      lon\n",
       "cluster                                                                   \n",
       "0              1 1900-01-01 03:12:00   -23.613   -46.0443 -23.713 -46.6443\n",
       "1              1 1900-01-01 03:50:00   -23.713   -46.6443 -23.814 -46.6443\n",
       "2              1 1900-01-01 04:12:00   -23.814   -46.6443 -23.713 -46.0443\n",
       "3              1 1900-01-01 04:50:00   -23.713   -46.0443     NaN      NaN\n",
       "0              2 1900-01-01 03:12:00   -23.313   -46.9443 -23.713 -46.9443\n",
       "1              2 1900-01-01 03:50:00   -23.713   -46.9443 -23.314 -46.9443\n",
       "2              2 1900-01-01 04:12:00   -23.314   -46.9443 -23.713 -46.9443\n",
       "3              2 1900-01-01 04:50:00   -23.713   -46.9443     NaN      NaN"
      ]
     },
     "execution_count": 331,
     "metadata": {},
     "output_type": "execute_result"
    }
   ],
   "source": [
    "def get_OD(clean_df):  \n",
    "    OD = []\n",
    "    for name, group in clean_df.groupby(clean_df.id):\n",
    "        group_dest = group.copy()\n",
    "        group.columns = columns_orig\n",
    "        OD += [pd.concat([group, group_dest.shift(-1)], axis=1).drop([\"time\", \"id\"], axis=1)] \n",
    "\n",
    "    return pd.concat(OD)\n",
    "\n",
    "get_OD(remove_inter(df))"
   ]
  },
  {
   "cell_type": "markdown",
   "metadata": {},
   "source": [
    "<h2>Clustering Metric:</h2>"
   ]
  },
  {
   "cell_type": "code",
   "execution_count": 332,
   "metadata": {
    "collapsed": false
   },
   "outputs": [],
   "source": [
    "def bundling_metric(X):\n",
    "    \n",
    "    def pairwise(l1,l2):\n",
    "        \n",
    "        return np.sum(np.dot(np.sum(np.square(l1 - l2)),\n",
    "                             np.log(1 + np.abs((l1[:2] - l2[:2])**2 - (l1[2:] - l2[2:])**2))))\n",
    "    \n",
    "    return cdist(X, X, metric=pairwise)"
   ]
  },
  {
   "cell_type": "markdown",
   "metadata": {},
   "source": [
    "<h2>Clustering</h2>"
   ]
  },
  {
   "cell_type": "code",
   "execution_count": 333,
   "metadata": {
    "collapsed": true
   },
   "outputs": [],
   "source": [
    "def get_clusters(X, n_clusters, metric):\n",
    "    X = metric(X)\n",
    "    model = AgglomerativeClustering(n_clusters=n_clusters, linkage=\"average\", affinity='precomputed')\n",
    "    model.fit(X)\n",
    "    \n",
    "    #X[model.labels_ == l]\n",
    "    \n",
    "    return model.labels_"
   ]
  },
  {
   "cell_type": "code",
   "execution_count": 341,
   "metadata": {
    "collapsed": false
   },
   "outputs": [],
   "source": [
    "def cluster(df, n_clusters):\n",
    "    df = df.dropna(axis=0, how='any')\n",
    "    clustered = []\n",
    "    for name, group in df.groupby([df.time_orig.dt.hour]):\n",
    "       \n",
    "        group[\"cluster\"] = get_clusters(group.loc[:,\"lat_orig\":\"lon\"].values, n_clusters, bundling_metric)\n",
    "        \n",
    "        grouped = group.groupby(group.cluster)\n",
    "        representative = grouped.first()\n",
    "        representative[\"count\"] = grouped.size()\n",
    "        clustered += [representative]\n",
    "    #return pd.concat(clustered)\n",
    "    return clustered"
   ]
  },
  {
   "cell_type": "code",
   "execution_count": 342,
   "metadata": {
    "collapsed": true
   },
   "outputs": [],
   "source": [
    "def plot_cluster(cluster):\n",
    "    \n",
    "    ax = cluster.plot.scatter(\"lat_orig\", \"long_orig\")\n",
    "    cluster.plot.scatter(\"lat\", \"lon\", ax=ax)\n",
    "    plt.show()\n",
    "    "
   ]
  },
  {
   "cell_type": "code",
   "execution_count": 343,
   "metadata": {
    "collapsed": false
   },
   "outputs": [
    {
     "name": "stderr",
     "output_type": "stream",
     "text": [
      "/home/luke/freya_home/luke/anaconda3/lib/python3.5/site-packages/ipykernel/__main__.py:6: SettingWithCopyWarning: \n",
      "A value is trying to be set on a copy of a slice from a DataFrame.\n",
      "Try using .loc[row_indexer,col_indexer] = value instead\n",
      "\n",
      "See the caveats in the documentation: http://pandas.pydata.org/pandas-docs/stable/indexing.html#indexing-view-versus-copy\n"
     ]
    },
    {
     "data": {
      "image/png": "[encoded data removed]",
      "text/plain": [
       "<matplotlib.figure.Figure at 0x7fd3c8ede470>"
      ]
     },
     "metadata": {},
     "output_type": "display_data"
    }
   ],
   "source": [
    "clusters = cluster(get_OD(remove_inter(df)), 2)\n",
    "plot_cluster(clusters[0])"
   ]
  },
  {
   "cell_type": "code",
   "execution_count": 344,
   "metadata": {
    "collapsed": false
   },
   "outputs": [],
   "source": [
    "def cluster_on_map(cluster):\n",
    "    m = folium.Map(location=[cluster.lat.mean(), cluster.lon.mean()])\n",
    "    colors = [\"green\",\"blue\", \"red\", \"orange\", \"brown\", \"yellow\", \"white\"]\n",
    "    i = 0\n",
    "    for index, row in cluster.iterrows():\n",
    "        \n",
    "        folium.features.PolyLine([row.loc[\"lat_orig\":\"long_orig\"].values.tolist(),\n",
    "                                   row.loc[\"lat\":\"lon\"].values.tolist()], color=colors[i], weight=row[\"count\"]).add_to(m)\n",
    "        i+=1\n",
    "    return m"
   ]
  },
  {
   "cell_type": "code",
   "execution_count": 346,
   "metadata": {
    "collapsed": false
   },
   "outputs": [
    {
     "name": "stdout",
     "output_type": "stream",
     "text": [
      "         id_orig           time_orig  lat_orig  long_orig     lat      lon  \\\n",
      "cluster                                                                      \n",
      "0              1 1900-01-01 03:50:00   -23.713   -46.6443 -23.814 -46.6443   \n",
      "1              1 1900-01-01 03:12:00   -23.613   -46.0443 -23.713 -46.6443   \n",
      "\n",
      "         cluster  count  \n",
      "cluster                  \n",
      "0              0      3  \n",
      "1              1      1  \n"
     ]
    }
   ],
   "source": [
    "print(clusters[0])"
   ]
  },
  {
   "cell_type": "code",
   "execution_count": 345,
   "metadata": {
    "collapsed": false,
    "scrolled": true
   },
   "outputs": [
    {
     "data": {
      "text/html": [
       "<div style=\"width:100%;\"><div style=\"position:relative;width:100%;height:0;padding-bottom:60%;\"><iframe src=\"data:text/html;charset=utf-8;base64,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\" style=\"position:absolute;width:100%;height:100%;left:0;top:0;border:none !important;\" allowfullscreen webkitallowfullscreen mozallowfullscreen></iframe></div></div>"
      ],
      "text/plain": [
       "<folium.folium.Map at 0x7fd3bc120b70>"
      ]
     },
     "execution_count": 345,
     "metadata": {},
     "output_type": "execute_result"
    }
   ],
   "source": [
    "cluster_on_map(clusters[0])"
   ]
  },
  {
   "cell_type": "code",
   "execution_count": 340,
   "metadata": {
    "collapsed": false
   },
   "outputs": [
    {
     "name": "stdout",
     "output_type": "stream",
     "text": [
      "\u001b[?1h\u001b=\u001b[H\u001b[2J\u001b[mtop - 01:47:37 up 14:05,  5 users,  load average: 3,00, 2,62, 2,58\u001b[m\u001b[m\u001b[m\u001b[m\u001b[K\n",
      "Tasks:\u001b[m\u001b[m\u001b[1m 231 \u001b[m\u001b[mtotal,\u001b[m\u001b[m\u001b[1m   1 \u001b[m\u001b[mrunning,\u001b[m\u001b[m\u001b[1m 230 \u001b[m\u001b[msleeping,\u001b[m\u001b[m\u001b[1m   0 \u001b[m\u001b[mstopped,\u001b[m\u001b[m\u001b[1m   0 \u001b[m\u001b[mzombie\u001b[m\u001b[m\u001b[m\u001b[m\u001b[K\n",
      "%Cpu(s):\u001b[m\u001b[m\u001b[1m 55,9 \u001b[m\u001b[mus,\u001b[m\u001b[m\u001b[1m  0,5 \u001b[m\u001b[msy,\u001b[m\u001b[m\u001b[1m  0,0 \u001b[m\u001b[mni,\u001b[m\u001b[m\u001b[1m 42,8 \u001b[m\u001b[mid,\u001b[m\u001b[m\u001b[1m  0,7 \u001b[m\u001b[mwa,\u001b[m\u001b[m\u001b[1m  0,0 \u001b[m\u001b[mhi,\u001b[m\u001b[m\u001b[1m  0,0 \u001b[m\u001b[msi,\u001b[m\u001b[m\u001b[1m  0,0 \u001b[m\u001b[mst\u001b[m\u001b[m\u001b[m\u001b[m\u001b[K\n",
      "KiB Mem: \u001b[m\u001b[m\u001b[1m  8072044 \u001b[m\u001b[mtotal,\u001b[m\u001b[m\u001b[1m  5605884 \u001b[m\u001b[mused,\u001b[m\u001b[m\u001b[1m  2466160 \u001b[m\u001b[mfree,\u001b[m\u001b[m\u001b[1m   304320 \u001b[m\u001b[mbuffers\u001b[m\u001b[m\u001b[m\u001b[m\u001b[K\n",
      "KiB Swap:\u001b[m\u001b[m\u001b[1m 24082424 \u001b[m\u001b[mtotal,\u001b[m\u001b[m\u001b[1m        0 \u001b[m\u001b[mused,\u001b[m\u001b[m\u001b[1m 24082424 \u001b[m\u001b[mfree.\u001b[m\u001b[m\u001b[1m  2208844 \u001b[m\u001b[mcached Mem\u001b[m\u001b[m\u001b[m\u001b[m\u001b[K\n",
      "\u001b[K\n",
      "\u001b[7m  PID USER      PR  NI    VIRT    RES    SHR S  %CPU %MEM     TIME+ COMMAND     \u001b[m\u001b[m\u001b[K\n",
      "\u001b[m 2918 luke      20   0  878252 135016  54408 S  94,4  1,7   1:24.15 chrome      \u001b[m\u001b[m\u001b[K\n",
      "\u001b[m 2703 luke      20   0  559560 178928 106376 S  18,9  2,2  12:17.10 chrome      \u001b[m\u001b[m\u001b[K\n",
      "\u001b[m 5198 luke      20   0 1497328 721728 574536 S  18,9  8,9  19:37.97 chrome      \u001b[m\u001b[m\u001b[K\n",
      "\u001b[m 2609 luke      20   0 2080380 435848 150108 S  12,6  5,4  21:16.82 chrome      \u001b[m\u001b[m\u001b[K\n",
      "\u001b[m 1105 root      20   0  289772  43204  32640 S   6,3  0,5   7:11.18 Xorg        \u001b[m\u001b[m\u001b[K\n",
      "\u001b[m 3032 luke      20   0 2366388 211152  54416 S   6,3  2,6   1795:49 chrome      \u001b[m\u001b[m\u001b[K\n",
      "\u001b[m    1 root      20   0   33920   4436   2692 S   0,0  0,1   0:01.48 init        \u001b[m\u001b[m\u001b[K\n",
      "\u001b[m    2 root      20   0       0      0      0 S   0,0  0,0   0:00.00 kthreadd    \u001b[m\u001b[m\u001b[K\n",
      "\u001b[m    3 root      20   0       0      0      0 S   0,0  0,0   0:00.03 ksoftirqd/0 \u001b[m\u001b[m\u001b[K\n",
      "\u001b[m    5 root       0 -20       0      0      0 S   0,0  0,0   0:00.00 kworker/0:+ \u001b[m\u001b[m\u001b[K\n",
      "\u001b[m    7 root      20   0       0      0      0 S   0,0  0,0   0:19.74 rcu_sched   \u001b[m\u001b[m\u001b[K\n",
      "\u001b[m    8 root      20   0       0      0      0 S   0,0  0,0   0:00.00 rcu_bh      \u001b[m\u001b[m\u001b[K\n",
      "\u001b[m    9 root      20   0       0      0      0 S   0,0  0,0   0:04.82 rcuos/0     \u001b[m\u001b[m\u001b[K\n",
      "\u001b[m   10 root      20   0       0      0      0 S   0,0  0,0   0:00.00 rcuob/0     \u001b[m\u001b[m\u001b[K\n",
      "\u001b[m   11 root      rt   0       0      0      0 S   0,0  0,0   0:00.03 migration/0 \u001b[m\u001b[m\u001b[K\n",
      "\u001b[m   12 root      rt   0       0      0      0 S   0,0  0,0   0:00.14 watchdog/0  \u001b[m\u001b[m\u001b[K\n",
      "\u001b[m   13 root      rt   0       0      0      0 S   0,0  0,0   0:00.14 watchdog/1  \u001b[m\u001b[m\u001b[K\u001b[H\u001b[mtop - 01:47:40 up 14:05,  5 users,  load average: 2,92, 2,61, 2,58\u001b[m\u001b[m\u001b[m\u001b[m\u001b[K\n",
      "Tasks:\u001b[m\u001b[m\u001b[1m 231 \u001b[m\u001b[mtotal,\u001b[m\u001b[m\u001b[1m   1 \u001b[m\u001b[mrunning,\u001b[m\u001b[m\u001b[1m 230 \u001b[m\u001b[msleeping,\u001b[m\u001b[m\u001b[1m   0 \u001b[m\u001b[mstopped,\u001b[m\u001b[m\u001b[1m   0 \u001b[m\u001b[mzombie\u001b[m\u001b[m\u001b[m\u001b[m\u001b[K\n",
      "%Cpu(s):\u001b[m\u001b[m\u001b[1m 70,1 \u001b[m\u001b[mus,\u001b[m\u001b[m\u001b[1m  4,6 \u001b[m\u001b[msy,\u001b[m\u001b[m\u001b[1m  0,0 \u001b[m\u001b[mni,\u001b[m\u001b[m\u001b[1m 25,1 \u001b[m\u001b[mid,\u001b[m\u001b[m\u001b[1m  0,2 \u001b[m\u001b[mwa,\u001b[m\u001b[m\u001b[1m  0,0 \u001b[m\u001b[mhi,\u001b[m\u001b[m\u001b[1m  0,0 \u001b[m\u001b[msi,\u001b[m\u001b[m\u001b[1m  0,0 \u001b[m\u001b[mst\u001b[m\u001b[m\u001b[m\u001b[m\u001b[K\n",
      "KiB Mem: \u001b[m\u001b[m\u001b[1m  8072044 \u001b[m\u001b[mtotal,\u001b[m\u001b[m\u001b[1m  5645712 \u001b[m\u001b[mused,\u001b[m\u001b[m\u001b[1m  2426332 \u001b[m\u001b[mfree,\u001b[m\u001b[m\u001b[1m   304320 \u001b[m\u001b[mbuffers\u001b[m\u001b[m\u001b[m\u001b[m\u001b[K\n",
      "KiB Swap:\u001b[m\u001b[m\u001b[1m 24082424 \u001b[m\u001b[mtotal,\u001b[m\u001b[m\u001b[1m        0 \u001b[m\u001b[mused,\u001b[m\u001b[m\u001b[1m 24082424 \u001b[m\u001b[mfree.\u001b[m\u001b[m\u001b[1m  2254608 \u001b[m\u001b[mcached Mem\u001b[m\u001b[m\u001b[m\u001b[m\u001b[K\n",
      "\u001b[K\n",
      "\n",
      "\u001b[m 3032 luke      20   0 2366388 211152  54416 S 198,7  2,6   1795:55 chrome      \u001b[m\u001b[m\u001b[K\n",
      "\u001b[m 5198 luke      20   0 1509400 733484 586488 S  50,6  9,1  19:39.49 chrome      \u001b[m\u001b[m\u001b[K\n",
      "\u001b[m 2703 luke      20   0  605024 222360 149808 S  17,3  2,8  12:17.62 chrome      \u001b[m\u001b[m\u001b[K\n",
      "\u001b[m 2918 luke      20   0  881956 130240  54408 S  11,6  1,6   1:24.50 chrome      \u001b[m\u001b[m\u001b[K\n",
      "\u001b[m 2609 luke      20   0 2072184 436544 150264 S   9,3  5,4  21:17.10 chrome      \u001b[m\u001b[m\u001b[K\n",
      "\u001b[m 1105 root      20   0  289772  43204  32640 S   4,7  0,5   7:11.32 Xorg        \u001b[m\u001b[m\u001b[K\n",
      "\u001b[m 1828 luke      20   0  939168  88084  35652 S   2,3  1,1   4:23.87 gala        \u001b[m\u001b[m\u001b[K\n",
      "\u001b[m 5233 luke      20   0 1847552 216496  78764 S   0,7  2,7   0:44.30 python      \u001b[m\u001b[m\u001b[K\n",
      "\u001b[m 2007 luke      20   0 3099016 145240  44152 S   0,3  1,8   0:29.15 dropbox     \u001b[m\u001b[m\u001b[K\n",
      "\u001b[m 2894 luke      20   0  779136  82180  52444 S   0,3  1,0   0:03.57 chrome      \u001b[m\u001b[m\u001b[K\n",
      "\u001b[m 2912 luke      20   0  844248 139588  54712 S   0,3  1,7   0:50.29 chrome      \u001b[m\u001b[m\u001b[K\n",
      "\u001b[m20540 root      20   0       0      0      0 S   0,3  0,0   0:00.04 kworker/3:0 \u001b[m\u001b[m\u001b[K\n",
      "\u001b[m\u001b[1m21108 luke      20   0   26208   2996   2448 R   0,3  0,0   0:00.01 top         \u001b[m\u001b[m\u001b[K\n",
      "\u001b[m    1 root      20   0   33920   4436   2692 S   0,0  0,1   0:01.48 init        \u001b[m\u001b[m\u001b[K\n",
      "\u001b[m    2 root      20   0       0      0      0 S   0,0  0,0   0:00.00 kthreadd    \u001b[m\u001b[m\u001b[K\n",
      "\u001b[m    3 root      20   0       0      0      0 S   0,0  0,0   0:00.03 ksoftirqd/0 \u001b[m\u001b[m\u001b[K\n",
      "\u001b[m    5 root       0 -20       0      0      0 S   0,0  0,0   0:00.00 kworker/0:+ \u001b[m\u001b[m\u001b[K\u001b[?1l\u001b>\u001b[25;1H\n",
      "\u001b[K\n"
     ]
    }
   ],
   "source": []
  },
  {
   "cell_type": "code",
   "execution_count": 347,
   "metadata": {
    "collapsed": true
   },
   "outputs": [],
   "source": [
    "def cluster(df, n_clusters, freq=False):\n",
    "    df = df.dropna(axis=0, how='any')\n",
    "    clustered = []\n",
    "\n",
    "    if freq:\n",
    "        groups = []\n",
    "        for name, group in df.groupby([df.time_orig.dt.hour]):\n",
    "\n",
    "            if group.shape[0] == 1:\n",
    "                continue\n",
    "       \n",
    "            group[\"cluster\"] = get_clusters(group.loc[:,\"lat_orig\":\"lon\"].values, n_clusters, bundling_metric)\n",
    "            groups += [group]\n",
    "            grouped = group.groupby(group.cluster)\n",
    "            representative = []\n",
    "            for name, g in grouped:\n",
    "                representative += [[g.lat_orig.mean(), g.long_orig.mean(), g.lat.mean(), g.lon.mean(), g.shape[0]]]\n",
    "        #representative = grouped.first()\n",
    "        #representative[\"count\"] = grouped.size()\n",
    "            clustered += [representative]\n",
    "        return clustered, groups\n",
    "    else:\n",
    "        df[\"cluster\"] = get_clusters(df.loc[:, \"lat_orig\":\"lon\"].values, n_clusters, bundling_metric)\n",
    "\n",
    "        grouped = df.groupby(df.cluster)\n",
    "        representative = []\n",
    "        for name, g in grouped:\n",
    "            representative += [[g.lat_orig.mean(), g.long_orig.mean(), g.lat.mean(), g.lon.mean(), g.shape[0], name]]\n",
    "        clustered += [representative]\n",
    "    #return pd.concat(clustered)\n",
    "        return clustered, df"
   ]
  },
  {
   "cell_type": "code",
   "execution_count": 348,
   "metadata": {
    "collapsed": true
   },
   "outputs": [],
   "source": [
    "def cluster_on_map(clustered, original, df=True):\n",
    "\n",
    "\n",
    "    print(clustered)\n",
    "    colors = sum([[\"green\", \"blue\", \"red\", \"orange\", \"brown\", \"yellow\",\n",
    "                   \"white\"] for i in range(1000)], [])\n",
    "    if df:\n",
    "        m = folium.Map(location=[clustered.lat.mean(), clustered.lon.mean()])\n",
    "    else:\n",
    "        m = folium.Map(location=[sum([cl[0] for cl in clustered]) / len(clustered), sum([cl[1] for cl in clustered])/len(clustered)])\n",
    "\n",
    "\n",
    "\n",
    "    i = 0\n",
    "    if df:\n",
    "        for index, row in clustered.iterrows():\n",
    "\n",
    "            folium.features.PolyLine([row.loc[\"lat_orig\":\"long_orig\"].values.tolist(),\n",
    "                                       row.loc[\"lat\":\"lon\"].values.tolist()], color=colors[i], weight=row[\"count\"]).add_to(m)\n",
    "            i += 1\n",
    "        return m\n",
    "\n",
    "    for r in clustered:\n",
    "        folium.features.PolyLine([r[:2],\n",
    "                                  r[2:4]], color=colors[i], weight=r[4]).add_to(m)\n",
    "\n",
    "        #for name, group in original.groupby(original.cluster):\n",
    "         #   if name == r[5]:\n",
    "         #       for index, row in group.iterrows():\n",
    "          #          folium.Marker([row.lat, row.lon], icon=folium.Icon(color=colors[i])).add_to(m)\n",
    "           #         folium.Marker([row.lat_orig, row.long_orig], icon=folium.Icon(color=colors[i])).add_to(m)\n",
    "\n",
    "        #folium.features.PolyLine([row.loc[\"lat_orig\":\"long_orig\"].values.tolist(),\n",
    "        #                           row.loc[\"lat\":\"lon\"].values.tolist()], color=colors[i], weight=row[\"count\"]).add_to(m)\n",
    "        i+=1\n",
    "    return m"
   ]
  },
  {
   "cell_type": "code",
   "execution_count": 351,
   "metadata": {
    "collapsed": false
   },
   "outputs": [
    {
     "name": "stderr",
     "output_type": "stream",
     "text": [
      "/home/luke/freya_home/luke/anaconda3/lib/python3.5/site-packages/ipykernel/__main__.py:6: SettingWithCopyWarning: \n",
      "A value is trying to be set on a copy of a slice from a DataFrame.\n",
      "Try using .loc[row_indexer,col_indexer] = value instead\n",
      "\n",
      "See the caveats in the documentation: http://pandas.pydata.org/pandas-docs/stable/indexing.html#indexing-view-versus-copy\n",
      "/home/luke/freya_home/luke/anaconda3/lib/python3.5/site-packages/ipykernel/__main__.py:23: SettingWithCopyWarning: \n",
      "A value is trying to be set on a copy of a slice from a DataFrame.\n",
      "Try using .loc[row_indexer,col_indexer] = value instead\n",
      "\n",
      "See the caveats in the documentation: http://pandas.pydata.org/pandas-docs/stable/indexing.html#indexing-view-versus-copy\n"
     ]
    },
    {
     "name": "stdout",
     "output_type": "stream",
     "text": [
      "[[-23.51325, -46.869299999999996, -23.6385, -46.869299999999996, 4, 0], [-23.7135, -46.344300000000004, -23.713, -46.344300000000004, 2, 1]]\n"
     ]
    },
    {
     "data": {
      "text/html": [
       "<div style=\"width:100%;\"><div style=\"position:relative;width:100%;height:0;padding-bottom:60%;\"><iframe src=\"data:text/html;charset=utf-8;base64,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\" style=\"position:absolute;width:100%;height:100%;left:0;top:0;border:none !important;\" allowfullscreen webkitallowfullscreen mozallowfullscreen></iframe></div></div>"
      ],
      "text/plain": [
       "<folium.folium.Map at 0x7fd3bc184550>"
      ]
     },
     "execution_count": 351,
     "metadata": {},
     "output_type": "execute_result"
    }
   ],
   "source": [
    "clusters, orig = cluster(get_OD(remove_inter(df)), 2)\n",
    "cluster_on_map(clusters[0], orig, df=False)"
   ]
  },
  {
   "cell_type": "code",
   "execution_count": 365,
   "metadata": {
    "collapsed": false
   },
   "outputs": [
    {
     "name": "stderr",
     "output_type": "stream",
     "text": [
      "/home/luke/freya_home/luke/anaconda3/lib/python3.5/site-packages/ipykernel/__main__.py:6: SettingWithCopyWarning: \n",
      "A value is trying to be set on a copy of a slice from a DataFrame.\n",
      "Try using .loc[row_indexer,col_indexer] = value instead\n",
      "\n",
      "See the caveats in the documentation: http://pandas.pydata.org/pandas-docs/stable/indexing.html#indexing-view-versus-copy\n",
      "/home/luke/freya_home/luke/anaconda3/lib/python3.5/site-packages/ipykernel/__main__.py:23: SettingWithCopyWarning: \n",
      "A value is trying to be set on a copy of a slice from a DataFrame.\n",
      "Try using .loc[row_indexer,col_indexer] = value instead\n",
      "\n",
      "See the caveats in the documentation: http://pandas.pydata.org/pandas-docs/stable/indexing.html#indexing-view-versus-copy\n"
     ]
    },
    {
     "name": "stdout",
     "output_type": "stream",
     "text": [
      "[[-23.464047222222227, -46.55957916666666, -23.464047222222227, -46.522189166666664, 2, 0], [-23.399715423583984, -46.52352523803711, -23.464047222222227, -46.58324166666666, 1, 1]]\n"
     ]
    },
    {
     "data": {
      "text/html": [
       "<div style=\"width:100%;\"><div style=\"position:relative;width:100%;height:0;padding-bottom:60%;\"><iframe src=\"data:text/html;charset=utf-8;base64,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\" style=\"position:absolute;width:100%;height:100%;left:0;top:0;border:none !important;\" allowfullscreen webkitallowfullscreen mozallowfullscreen></iframe></div></div>"
      ],
      "text/plain": [
       "<folium.folium.Map at 0x7fd3bc0c7940>"
      ]
     },
     "execution_count": 365,
     "metadata": {},
     "output_type": "execute_result"
    }
   ],
   "source": [
    "clusters, orig = cluster(get_OD(remove_inter(john)), 2)\n",
    "cluster_on_map(clusters[0], orig, df=False)"
   ]
  },
  {
   "cell_type": "code",
   "execution_count": 368,
   "metadata": {
    "collapsed": false
   },
   "outputs": [
    {
     "name": "stdout",
     "output_type": "stream",
     "text": [
      "         id_orig           time_orig   lat_orig  long_orig        lat  \\\n",
      "cluster                                                                 \n",
      "0         440224 1900-01-01 03:12:00 -23.399715 -46.523525 -23.464047   \n",
      "1         440224 1900-01-01 03:50:00 -23.464047 -46.583242 -23.464047   \n",
      "2         440224 1900-01-01 04:12:00 -23.464047 -46.535917 -23.464047   \n",
      "\n",
      "               lon  cluster  count  \n",
      "cluster                             \n",
      "0       -46.583242        1      1  \n",
      "1       -46.535917        0      1  \n",
      "2       -46.508462        0      1  \n"
     ]
    },
    {
     "data": {
      "text/html": [
       "<div style=\"width:100%;\"><div style=\"position:relative;width:100%;height:0;padding-bottom:60%;\"><iframe src=\"data:text/html;charset=utf-8;base64,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\" style=\"position:absolute;width:100%;height:100%;left:0;top:0;border:none !important;\" allowfullscreen webkitallowfullscreen mozallowfullscreen></iframe></div></div>"
      ],
      "text/plain": [
       "<folium.folium.Map at 0x7fd3bc0c7908>"
      ]
     },
     "execution_count": 368,
     "metadata": {},
     "output_type": "execute_result"
    }
   ],
   "source": [
    "orig[\"count\"] = [1 for i in range(orig.shape[0])]\n",
    "cluster_on_map(orig, orig)"
   ]
  },
  {
   "cell_type": "code",
   "execution_count": 396,
   "metadata": {
    "collapsed": false
   },
   "outputs": [
    {
     "name": "stderr",
     "output_type": "stream",
     "text": [
      "/home/luke/freya_home/luke/anaconda3/lib/python3.5/site-packages/ipykernel/__main__.py:6: SettingWithCopyWarning: \n",
      "A value is trying to be set on a copy of a slice from a DataFrame.\n",
      "Try using .loc[row_indexer,col_indexer] = value instead\n",
      "\n",
      "See the caveats in the documentation: http://pandas.pydata.org/pandas-docs/stable/indexing.html#indexing-view-versus-copy\n",
      "/home/luke/freya_home/luke/anaconda3/lib/python3.5/site-packages/ipykernel/__main__.py:23: SettingWithCopyWarning: \n",
      "A value is trying to be set on a copy of a slice from a DataFrame.\n",
      "Try using .loc[row_indexer,col_indexer] = value instead\n",
      "\n",
      "See the caveats in the documentation: http://pandas.pydata.org/pandas-docs/stable/indexing.html#indexing-view-versus-copy\n"
     ]
    },
    {
     "name": "stdout",
     "output_type": "stream",
     "text": [
      "[[-23.48372382635989, -46.892017120956524, -23.512553477783577, -46.91060201465316, 5, 0], [-23.47772630876614, -46.84412505716288, -23.458496596845304, -46.89459712132458, 3, 1], [-23.530289506435103, -46.87102684178004, -23.52131295042159, -46.86848141344673, 7, 2], [-23.5342294239655, -46.829203729330025, -23.454256016743315, -46.83631198597503, 1, 3], [-23.525237589328903, -46.902059442492224, -23.456797704610523, -46.8422718513826, 1, 4]]\n"
     ]
    },
    {
     "data": {
      "text/html": [
       "<div style=\"width:100%;\"><div style=\"position:relative;width:100%;height:0;padding-bottom:60%;\"><iframe src=\"data:text/html;charset=utf-8;base64,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\" style=\"position:absolute;width:100%;height:100%;left:0;top:0;border:none !important;\" allowfullscreen webkitallowfullscreen mozallowfullscreen></iframe></div></div>"
      ],
      "text/plain": [
       "<folium.folium.Map at 0x7fd3bc5c65c0>"
      ]
     },
     "execution_count": 396,
     "metadata": {},
     "output_type": "execute_result"
    }
   ],
   "source": [
    "clusters, orig = cluster(get_OD(remove_inter(merged_new)), 5)\n",
    "cluster_on_map(clusters[0], orig, df=False)"
   ]
  },
  {
   "cell_type": "code",
   "execution_count": 397,
   "metadata": {
    "collapsed": false
   },
   "outputs": [
    {
     "name": "stdout",
     "output_type": "stream",
     "text": [
      "         id_orig           time_orig   lat_orig  long_orig        lat  \\\n",
      "cluster                                                                 \n",
      "0           8695 2017-10-07 07:59:58 -23.525238 -46.902059 -23.456798   \n",
      "0          84232 2017-10-07 08:32:58 -23.528576 -46.921810 -23.481305   \n",
      "0          89837 2017-10-07 08:59:57 -23.530169 -46.850778 -23.522736   \n",
      "0         187245 2017-10-07 08:32:58 -23.551441 -46.832732 -23.517169   \n",
      "0         385271 2017-10-07 07:59:58 -23.455070 -46.895494 -23.537963   \n",
      "0         425787 2017-10-07 07:43:14 -23.541572 -46.901274 -23.533555   \n",
      "0         429234 2017-10-07 08:54:27 -23.534229 -46.829204 -23.454256   \n",
      "0         629704 2017-10-07 08:59:57 -23.467659 -46.859799 -23.495552   \n",
      "0         640782 2017-10-07 08:32:58 -23.474867 -46.849646 -23.459486   \n",
      "0         672921 2017-10-07 07:59:13 -23.486953 -46.846791 -23.464121   \n",
      "0         719123 2017-10-07 08:32:58 -23.537348 -46.855883 -23.501936   \n",
      "0         750756 2017-10-07 08:32:58 -23.517139 -46.896148 -23.521352   \n",
      "0         779948 2017-10-07 08:21:28 -23.498337 -46.851626 -23.549372   \n",
      "0         835325 2017-10-07 08:27:28 -23.471359 -46.835939 -23.451882   \n",
      "0         931931 2017-10-07 08:32:58 -23.536020 -46.908746 -23.503070   \n",
      "0        1031106 2017-10-07 08:21:28 -23.469418 -46.906327 -23.522732   \n",
      "0        1058054 2017-10-07 08:32:58 -23.497895 -46.876656 -23.525215   \n",
      "\n",
      "               lon  cluster  count  \n",
      "cluster                             \n",
      "0       -46.842272        4      1  \n",
      "0       -46.920839        0      1  \n",
      "0       -46.888156        2      1  \n",
      "0       -46.876648        2      1  \n",
      "0       -46.915224        0      1  \n",
      "0       -46.849344        2      1  \n",
      "0       -46.836312        3      1  \n",
      "0       -46.919022        0      1  \n",
      "0       -46.884616        1      1  \n",
      "0       -46.873378        1      1  \n",
      "0       -46.913216        2      1  \n",
      "0       -46.877432        2      1  \n",
      "0       -46.836732        2      1  \n",
      "0       -46.925797        1      1  \n",
      "0       -46.837842        2      1  \n",
      "0       -46.890445        0      1  \n",
      "0       -46.907479        0      1  \n"
     ]
    },
    {
     "data": {
      "text/html": [
       "<div style=\"width:100%;\"><div style=\"position:relative;width:100%;height:0;padding-bottom:60%;\"><iframe src=\"data:text/html;charset=utf-8;base64,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\" style=\"position:absolute;width:100%;height:100%;left:0;top:0;border:none !important;\" allowfullscreen webkitallowfullscreen mozallowfullscreen></iframe></div></div>"
      ],
      "text/plain": [
       "<folium.folium.Map at 0x7fd3bc3ae978>"
      ]
     },
     "execution_count": 397,
     "metadata": {},
     "output_type": "execute_result"
    }
   ],
   "source": [
    "orig[\"count\"] = [1 for i in range(orig.shape[0])]\n",
    "cluster_on_map(orig, orig)"
   ]
  },
  {
   "cell_type": "code",
   "execution_count": null,
   "metadata": {
    "collapsed": true
   },
   "outputs": [],
   "source": []
  }
 ],
 "metadata": {
  "kernelspec": {
   "display_name": "Python 3",
   "language": "python",
   "name": "python3"
  },
  "language_info": {
   "codemirror_mode": {
    "name": "ipython",
    "version": 3
   },
   "file_extension": ".py",
   "mimetype": "text/x-python",
   "name": "python",
   "nbconvert_exporter": "python",
   "pygments_lexer": "ipython3",
   "version": "3.5.4"
  }
 },
 "nbformat": 4,
 "nbformat_minor": 0
}
