{
 "cells": [
  {
   "cell_type": "code",
   "execution_count": 203,
   "metadata": {
    "collapsed": true
   },
   "outputs": [],
   "source": [
    "import pandas as pd\n",
    "import matplotlib.pyplot as plt\n",
    "import numpy as np\n",
    "import folium\n",
    "from sklearn.cluster import AgglomerativeClustering\n",
    "from scipy.spatial.distance import cdist\n",
    "%matplotlib inline"
   ]
  },
  {
   "cell_type": "code",
   "execution_count": 326,
   "metadata": {
    "collapsed": false
   },
   "outputs": [],
   "source": [
    "toy_data = [[1, \"1:3:12\", -23.613, -46.0443],\n",
    "            [1, \"1:3:13\", -23.613, -46.6443],\n",
    "            [1, \"1:3:50\", -23.713, -46.6443],\n",
    "            [1, \"1:4:12\", -23.814, -46.6443],\n",
    "            [1, \"1:4:13\", -23.613, -46.0443],\n",
    "            [1, \"1:4:50\", -23.713, -46.0443],\n",
    "            [2, \"1:3:12\", -23.313, -46.9443],\n",
    "            [2, \"1:3:13\", -23.513, -46.9443],\n",
    "            [2, \"1:3:50\", -23.713, -46.9443],\n",
    "            [2, \"1:4:12\", -23.314, -46.9443],\n",
    "            [2, \"1:4:13\", -23.513, -46.9443],\n",
    "            [2, \"1:4:50\", -23.713, -46.9443]]\n",
    "\n",
    "columns = [\"id\", \"time\", \"lat\", \"lon\"]\n",
    "columns_orig = [\"id_orig\", \"time_orig\", \"lat_orig\", \"long_orig\"]"
   ]
  },
  {
   "cell_type": "code",
   "execution_count": 327,
   "metadata": {
    "collapsed": false
   },
   "outputs": [],
   "source": [
    "df = pd.DataFrame(toy_data, columns=columns)"
   ]
  },
  {
   "cell_type": "code",
   "execution_count": 328,
   "metadata": {
    "collapsed": true
   },
   "outputs": [],
   "source": [
    "df.time = pd.to_datetime(df.time, format='%d:%H:%M')#format='%Y-%m-%d %H:%M:%S')"
   ]
  },
  {
   "cell_type": "code",
   "execution_count": 329,
   "metadata": {
    "collapsed": false
   },
   "outputs": [
    {
     "data": {
      "text/html": [
       "<div>\n",
       "<style>\n",
       "    .dataframe thead tr:only-child th {\n",
       "        text-align: right;\n",
       "    }\n",
       "\n",
       "    .dataframe thead th {\n",
       "        text-align: left;\n",
       "    }\n",
       "\n",
       "    .dataframe tbody tr th {\n",
       "        vertical-align: top;\n",
       "    }\n",
       "</style>\n",
       "<table border=\"1\" class=\"dataframe\">\n",
       "  <thead>\n",
       "    <tr style=\"text-align: right;\">\n",
       "      <th></th>\n",
       "      <th>id</th>\n",
       "      <th>time</th>\n",
       "      <th>lat</th>\n",
       "      <th>lon</th>\n",
       "    </tr>\n",
       "  </thead>\n",
       "  <tbody>\n",
       "    <tr>\n",
       "      <th>0</th>\n",
       "      <td>1</td>\n",
       "      <td>1900-01-01 03:12:00</td>\n",
       "      <td>-23.613</td>\n",
       "      <td>-46.0443</td>\n",
       "    </tr>\n",
       "    <tr>\n",
       "      <th>1</th>\n",
       "      <td>1</td>\n",
       "      <td>1900-01-01 03:13:00</td>\n",
       "      <td>-23.613</td>\n",
       "      <td>-46.6443</td>\n",
       "    </tr>\n",
       "    <tr>\n",
       "      <th>2</th>\n",
       "      <td>1</td>\n",
       "      <td>1900-01-01 03:50:00</td>\n",
       "      <td>-23.713</td>\n",
       "      <td>-46.6443</td>\n",
       "    </tr>\n",
       "    <tr>\n",
       "      <th>3</th>\n",
       "      <td>1</td>\n",
       "      <td>1900-01-01 04:12:00</td>\n",
       "      <td>-23.814</td>\n",
       "      <td>-46.6443</td>\n",
       "    </tr>\n",
       "    <tr>\n",
       "      <th>4</th>\n",
       "      <td>1</td>\n",
       "      <td>1900-01-01 04:13:00</td>\n",
       "      <td>-23.613</td>\n",
       "      <td>-46.0443</td>\n",
       "    </tr>\n",
       "    <tr>\n",
       "      <th>5</th>\n",
       "      <td>1</td>\n",
       "      <td>1900-01-01 04:50:00</td>\n",
       "      <td>-23.713</td>\n",
       "      <td>-46.0443</td>\n",
       "    </tr>\n",
       "    <tr>\n",
       "      <th>6</th>\n",
       "      <td>2</td>\n",
       "      <td>1900-01-01 03:12:00</td>\n",
       "      <td>-23.313</td>\n",
       "      <td>-46.9443</td>\n",
       "    </tr>\n",
       "    <tr>\n",
       "      <th>7</th>\n",
       "      <td>2</td>\n",
       "      <td>1900-01-01 03:13:00</td>\n",
       "      <td>-23.513</td>\n",
       "      <td>-46.9443</td>\n",
       "    </tr>\n",
       "    <tr>\n",
       "      <th>8</th>\n",
       "      <td>2</td>\n",
       "      <td>1900-01-01 03:50:00</td>\n",
       "      <td>-23.713</td>\n",
       "      <td>-46.9443</td>\n",
       "    </tr>\n",
       "    <tr>\n",
       "      <th>9</th>\n",
       "      <td>2</td>\n",
       "      <td>1900-01-01 04:12:00</td>\n",
       "      <td>-23.314</td>\n",
       "      <td>-46.9443</td>\n",
       "    </tr>\n",
       "    <tr>\n",
       "      <th>10</th>\n",
       "      <td>2</td>\n",
       "      <td>1900-01-01 04:13:00</td>\n",
       "      <td>-23.513</td>\n",
       "      <td>-46.9443</td>\n",
       "    </tr>\n",
       "    <tr>\n",
       "      <th>11</th>\n",
       "      <td>2</td>\n",
       "      <td>1900-01-01 04:50:00</td>\n",
       "      <td>-23.713</td>\n",
       "      <td>-46.9443</td>\n",
       "    </tr>\n",
       "  </tbody>\n",
       "</table>\n",
       "</div>"
      ],
      "text/plain": [
       "    id                time     lat      lon\n",
       "0    1 1900-01-01 03:12:00 -23.613 -46.0443\n",
       "1    1 1900-01-01 03:13:00 -23.613 -46.6443\n",
       "2    1 1900-01-01 03:50:00 -23.713 -46.6443\n",
       "3    1 1900-01-01 04:12:00 -23.814 -46.6443\n",
       "4    1 1900-01-01 04:13:00 -23.613 -46.0443\n",
       "5    1 1900-01-01 04:50:00 -23.713 -46.0443\n",
       "6    2 1900-01-01 03:12:00 -23.313 -46.9443\n",
       "7    2 1900-01-01 03:13:00 -23.513 -46.9443\n",
       "8    2 1900-01-01 03:50:00 -23.713 -46.9443\n",
       "9    2 1900-01-01 04:12:00 -23.314 -46.9443\n",
       "10   2 1900-01-01 04:13:00 -23.513 -46.9443\n",
       "11   2 1900-01-01 04:50:00 -23.713 -46.9443"
      ]
     },
     "execution_count": 329,
     "metadata": {},
     "output_type": "execute_result"
    }
   ],
   "source": [
    "df"
   ]
  },
  {
   "cell_type": "markdown",
   "metadata": {},
   "source": [
    "<h2>Remove estimated intersections in route:</h2>"
   ]
  },
  {
   "cell_type": "code",
   "execution_count": 330,
   "metadata": {
    "collapsed": false
   },
   "outputs": [],
   "source": [
    "def remove_inter(df):\n",
    "    clean_df = []\n",
    "\n",
    "    for name, group in df.groupby([\"id\"]):#, df.time.dt.day]):\n",
    "        #print(name, group)\n",
    "        group[\"cluster\"] = (group.time.diff() > pd.Timedelta(minutes=10)).cumsum()\n",
    "    \n",
    "        clean_df += [group.groupby(group.cluster).first()]\n",
    "        #print(group.groupby(group.cluster).first())#.sort_values(group.time).head(1))\n",
    "        #for name, g in group.groupby(group.cluster):\n",
    "            #print(name, g)\n",
    "        #print()\n",
    "        #print()\n",
    "\n",
    "    clean = pd.concat(clean_df)\n",
    "    return clean.drop(\"cluster\", axis=1)"
   ]
  },
  {
   "cell_type": "markdown",
   "metadata": {},
   "source": [
    "<h2>Estimate Destination:</h2>"
   ]
  },
  {
   "cell_type": "code",
   "execution_count": 331,
   "metadata": {
    "collapsed": false
   },
   "outputs": [
    {
     "name": "stderr",
     "output_type": "stream",
     "text": [
      "/home/luke/freya_home/luke/anaconda3/lib/python3.5/site-packages/ipykernel/__main__.py:6: SettingWithCopyWarning: \n",
      "A value is trying to be set on a copy of a slice from a DataFrame.\n",
      "Try using .loc[row_indexer,col_indexer] = value instead\n",
      "\n",
      "See the caveats in the documentation: http://pandas.pydata.org/pandas-docs/stable/indexing.html#indexing-view-versus-copy\n"
     ]
    },
    {
     "data": {
      "text/html": [
       "<div>\n",
       "<style>\n",
       "    .dataframe thead tr:only-child th {\n",
       "        text-align: right;\n",
       "    }\n",
       "\n",
       "    .dataframe thead th {\n",
       "        text-align: left;\n",
       "    }\n",
       "\n",
       "    .dataframe tbody tr th {\n",
       "        vertical-align: top;\n",
       "    }\n",
       "</style>\n",
       "<table border=\"1\" class=\"dataframe\">\n",
       "  <thead>\n",
       "    <tr style=\"text-align: right;\">\n",
       "      <th></th>\n",
       "      <th>id_orig</th>\n",
       "      <th>time_orig</th>\n",
       "      <th>lat_orig</th>\n",
       "      <th>long_orig</th>\n",
       "      <th>lat</th>\n",
       "      <th>lon</th>\n",
       "    </tr>\n",
       "    <tr>\n",
       "      <th>cluster</th>\n",
       "      <th></th>\n",
       "      <th></th>\n",
       "      <th></th>\n",
       "      <th></th>\n",
       "      <th></th>\n",
       "      <th></th>\n",
       "    </tr>\n",
       "  </thead>\n",
       "  <tbody>\n",
       "    <tr>\n",
       "      <th>0</th>\n",
       "      <td>1</td>\n",
       "      <td>1900-01-01 03:12:00</td>\n",
       "      <td>-23.613</td>\n",
       "      <td>-46.0443</td>\n",
       "      <td>-23.713</td>\n",
       "      <td>-46.6443</td>\n",
       "    </tr>\n",
       "    <tr>\n",
       "      <th>1</th>\n",
       "      <td>1</td>\n",
       "      <td>1900-01-01 03:50:00</td>\n",
       "      <td>-23.713</td>\n",
       "      <td>-46.6443</td>\n",
       "      <td>-23.814</td>\n",
       "      <td>-46.6443</td>\n",
       "    </tr>\n",
       "    <tr>\n",
       "      <th>2</th>\n",
       "      <td>1</td>\n",
       "      <td>1900-01-01 04:12:00</td>\n",
       "      <td>-23.814</td>\n",
       "      <td>-46.6443</td>\n",
       "      <td>-23.713</td>\n",
       "      <td>-46.0443</td>\n",
       "    </tr>\n",
       "    <tr>\n",
       "      <th>3</th>\n",
       "      <td>1</td>\n",
       "      <td>1900-01-01 04:50:00</td>\n",
       "      <td>-23.713</td>\n",
       "      <td>-46.0443</td>\n",
       "      <td>NaN</td>\n",
       "      <td>NaN</td>\n",
       "    </tr>\n",
       "    <tr>\n",
       "      <th>0</th>\n",
       "      <td>2</td>\n",
       "      <td>1900-01-01 03:12:00</td>\n",
       "      <td>-23.313</td>\n",
       "      <td>-46.9443</td>\n",
       "      <td>-23.713</td>\n",
       "      <td>-46.9443</td>\n",
       "    </tr>\n",
       "    <tr>\n",
       "      <th>1</th>\n",
       "      <td>2</td>\n",
       "      <td>1900-01-01 03:50:00</td>\n",
       "      <td>-23.713</td>\n",
       "      <td>-46.9443</td>\n",
       "      <td>-23.314</td>\n",
       "      <td>-46.9443</td>\n",
       "    </tr>\n",
       "    <tr>\n",
       "      <th>2</th>\n",
       "      <td>2</td>\n",
       "      <td>1900-01-01 04:12:00</td>\n",
       "      <td>-23.314</td>\n",
       "      <td>-46.9443</td>\n",
       "      <td>-23.713</td>\n",
       "      <td>-46.9443</td>\n",
       "    </tr>\n",
       "    <tr>\n",
       "      <th>3</th>\n",
       "      <td>2</td>\n",
       "      <td>1900-01-01 04:50:00</td>\n",
       "      <td>-23.713</td>\n",
       "      <td>-46.9443</td>\n",
       "      <td>NaN</td>\n",
       "      <td>NaN</td>\n",
       "    </tr>\n",
       "  </tbody>\n",
       "</table>\n",
       "</div>"
      ],
      "text/plain": [
       "         id_orig           time_orig  lat_orig  long_orig     lat      lon\n",
       "cluster                                                                   \n",
       "0              1 1900-01-01 03:12:00   -23.613   -46.0443 -23.713 -46.6443\n",
       "1              1 1900-01-01 03:50:00   -23.713   -46.6443 -23.814 -46.6443\n",
       "2              1 1900-01-01 04:12:00   -23.814   -46.6443 -23.713 -46.0443\n",
       "3              1 1900-01-01 04:50:00   -23.713   -46.0443     NaN      NaN\n",
       "0              2 1900-01-01 03:12:00   -23.313   -46.9443 -23.713 -46.9443\n",
       "1              2 1900-01-01 03:50:00   -23.713   -46.9443 -23.314 -46.9443\n",
       "2              2 1900-01-01 04:12:00   -23.314   -46.9443 -23.713 -46.9443\n",
       "3              2 1900-01-01 04:50:00   -23.713   -46.9443     NaN      NaN"
      ]
     },
     "execution_count": 331,
     "metadata": {},
     "output_type": "execute_result"
    }
   ],
   "source": [
    "def get_OD(clean_df):  \n",
    "    OD = []\n",
    "    for name, group in clean_df.groupby(clean_df.id):\n",
    "        group_dest = group.copy()\n",
    "        group.columns = columns_orig\n",
    "        OD += [pd.concat([group, group_dest.shift(-1)], axis=1).drop([\"time\", \"id\"], axis=1)] \n",
    "\n",
    "    return pd.concat(OD)\n",
    "\n",
    "get_OD(remove_inter(df))"
   ]
  },
  {
   "cell_type": "markdown",
   "metadata": {},
   "source": [
    "<h2>Clustering Metric:</h2>"
   ]
  },
  {
   "cell_type": "code",
   "execution_count": 332,
   "metadata": {
    "collapsed": false
   },
   "outputs": [],
   "source": [
    "def bundling_metric(X):\n",
    "    \n",
    "    def pairwise(l1,l2):\n",
    "        \n",
    "        return np.sum(np.dot(np.sum(np.square(l1 - l2)),\n",
    "                             np.log(1 + np.abs((l1[:2] - l2[:2])**2 - (l1[2:] - l2[2:])**2))))\n",
    "    \n",
    "    return cdist(X, X, metric=pairwise)"
   ]
  },
  {
   "cell_type": "markdown",
   "metadata": {},
   "source": [
    "<h2>Clustering</h2>"
   ]
  },
  {
   "cell_type": "code",
   "execution_count": 333,
   "metadata": {
    "collapsed": true
   },
   "outputs": [],
   "source": [
    "def get_clusters(X, n_clusters, metric):\n",
    "    X = metric(X)\n",
    "    model = AgglomerativeClustering(n_clusters=n_clusters, linkage=\"average\", affinity='precomputed')\n",
    "    model.fit(X)\n",
    "    \n",
    "    #X[model.labels_ == l]\n",
    "    \n",
    "    return model.labels_"
   ]
  },
  {
   "cell_type": "code",
   "execution_count": 334,
   "metadata": {
    "collapsed": false
   },
   "outputs": [],
   "source": [
    "def cluster(df, n_clusters):\n",
    "    df = df.dropna(axis=0, how='any')\n",
    "    clustered = []\n",
    "    for name, group in df.groupby([df.time_orig.dt.hour]):\n",
    "       \n",
    "        group[\"cluster\"] = get_clusters(group.loc[:,\"lat_orig\":\"lon\"].values, n_clusters, bundling_metric)\n",
    "        \n",
    "        grouped = group.groupby(group.cluster)\n",
    "        representative = grouped.first()\n",
    "        representative[\"count\"] = grouped.size()\n",
    "        clustered += [representative]\n",
    "    #return pd.concat(clustered)\n",
    "    return clustered"
   ]
  },
  {
   "cell_type": "code",
   "execution_count": 335,
   "metadata": {
    "collapsed": true
   },
   "outputs": [],
   "source": [
    "def plot_cluster(cluster):\n",
    "    \n",
    "    ax = cluster.plot.scatter(\"lat_orig\", \"long_orig\")\n",
    "    cluster.plot.scatter(\"lat\", \"lon\", ax=ax)\n",
    "    plt.show()\n",
    "    "
   ]
  },
  {
   "cell_type": "code",
   "execution_count": 336,
   "metadata": {
    "collapsed": false
   },
   "outputs": [
    {
     "name": "stderr",
     "output_type": "stream",
     "text": [
      "/home/luke/freya_home/luke/anaconda3/lib/python3.5/site-packages/ipykernel/__main__.py:6: SettingWithCopyWarning: \n",
      "A value is trying to be set on a copy of a slice from a DataFrame.\n",
      "Try using .loc[row_indexer,col_indexer] = value instead\n",
      "\n",
      "See the caveats in the documentation: http://pandas.pydata.org/pandas-docs/stable/indexing.html#indexing-view-versus-copy\n"
     ]
    },
    {
     "data": {
      "image/png": "[encoded data removed]",
      "text/plain": [
       "<matplotlib.figure.Figure at 0x7fd3bc11b0f0>"
      ]
     },
     "metadata": {},
     "output_type": "display_data"
    }
   ],
   "source": [
    "clusters = cluster(get_OD(remove_inter(df)), 2)\n",
    "plot_cluster(clusters[0])"
   ]
  },
  {
   "cell_type": "code",
   "execution_count": 337,
   "metadata": {
    "collapsed": false
   },
   "outputs": [],
   "source": [
    "def cluster_on_map(cluster):\n",
    "    m = folium.Map(location=[cluster.lat.mean(), cluster.lon.mean()])\n",
    "    colors = [\"green\",\"blue\", \"red\", \"orange\", \"brown\", \"yellow\", \"white\"]\n",
    "    i = 0\n",
    "    for index, row in cluster.iterrows():\n",
    "        \n",
    "        folium.features.PolyLine([row.loc[\"lat_orig\":\"long_orig\"].values.tolist(),\n",
    "                                   row.loc[\"lat\":\"lon\"].values.tolist()], color=colors[i], weight=row[\"count\"]).add_to(m)\n",
    "        i+=1\n",
    "    return m"
   ]
  },
  {
   "cell_type": "code",
   "execution_count": 338,
   "metadata": {
    "collapsed": false,
    "scrolled": true
   },
   "outputs": [
    {
     "data": {
      "text/html": [
       "<div style=\"width:100%;\"><div style=\"position:relative;width:100%;height:0;padding-bottom:60%;\"><iframe src=\"data:text/html;charset=utf-8;base64,PCFET0NUWVBFIGh0bWw+CjxoZWFkPiAgICAKICAgIDxtZXRhIGh0dHAtZXF1aXY9ImNvbnRlbnQtdHlwZSIgY29udGVudD0idGV4dC9odG1sOyBjaGFyc2V0PVVURi04IiAvPgogICAgPHNjcmlwdD5MX1BSRUZFUl9DQU5WQVMgPSBmYWxzZTsgTF9OT19UT1VDSCA9IGZhbHNlOyBMX0RJU0FCTEVfM0QgPSBmYWxzZTs8L3NjcmlwdD4KICAgIDxzY3JpcHQgc3JjPSJodHRwczovL2Nkbi5qc2RlbGl2ci5uZXQvbnBtL2xlYWZsZXRAMS4yLjAvZGlzdC9sZWFmbGV0LmpzIj48L3NjcmlwdD4KICAgIDxzY3JpcHQgc3JjPSJodHRwczovL2FqYXguZ29vZ2xlYXBpcy5jb20vYWpheC9saWJzL2pxdWVyeS8xLjExLjEvanF1ZXJ5Lm1pbi5qcyI+PC9zY3JpcHQ+CiAgICA8c2NyaXB0IHNyYz0iaHR0cHM6Ly9tYXhjZG4uYm9vdHN0cmFwY2RuLmNvbS9ib290c3RyYXAvMy4yLjAvanMvYm9vdHN0cmFwLm1pbi5qcyI+PC9zY3JpcHQ+CiAgICA8c2NyaXB0IHNyYz0iaHR0cHM6Ly9jZG5qcy5jbG91ZGZsYXJlLmNvbS9hamF4L2xpYnMvTGVhZmxldC5hd2Vzb21lLW1hcmtlcnMvMi4wLjIvbGVhZmxldC5hd2Vzb21lLW1hcmtlcnMuanMiPjwvc2NyaXB0PgogICAgPGxpbmsgcmVsPSJzdHlsZXNoZWV0IiBocmVmPSJodHRwczovL2Nkbi5qc2RlbGl2ci5uZXQvbnBtL2xlYWZsZXRAMS4yLjAvZGlzdC9sZWFmbGV0LmNzcyIgLz4KICAgIDxsaW5rIHJlbD0ic3R5bGVzaGVldCIgaHJlZj0iaHR0cHM6Ly9tYXhjZG4uYm9vdHN0cmFwY2RuLmNvbS9ib290c3RyYXAvMy4yLjAvY3NzL2Jvb3RzdHJhcC5taW4uY3NzIiAvPgogICAgPGxpbmsgcmVsPSJzdHlsZXNoZWV0IiBocmVmPSJodHRwczovL21heGNkbi5ib290c3RyYXBjZG4uY29tL2Jvb3RzdHJhcC8zLjIuMC9jc3MvYm9vdHN0cmFwLXRoZW1lLm1pbi5jc3MiIC8+CiAgICA8bGluayByZWw9InN0eWxlc2hlZXQiIGhyZWY9Imh0dHBzOi8vbWF4Y2RuLmJvb3RzdHJhcGNkbi5jb20vZm9udC1hd2Vzb21lLzQuNi4zL2Nzcy9mb250LWF3ZXNvbWUubWluLmNzcyIgLz4KICAgIDxsaW5rIHJlbD0ic3R5bGVzaGVldCIgaHJlZj0iaHR0cHM6Ly9jZG5qcy5jbG91ZGZsYXJlLmNvbS9hamF4L2xpYnMvTGVhZmxldC5hd2Vzb21lLW1hcmtlcnMvMi4wLjIvbGVhZmxldC5hd2Vzb21lLW1hcmtlcnMuY3NzIiAvPgogICAgPGxpbmsgcmVsPSJzdHlsZXNoZWV0IiBocmVmPSJodHRwczovL3Jhd2dpdC5jb20vcHl0aG9uLXZpc3VhbGl6YXRpb24vZm9saXVtL21hc3Rlci9mb2xpdW0vdGVtcGxhdGVzL2xlYWZsZXQuYXdlc29tZS5yb3RhdGUuY3NzIiAvPgogICAgPHN0eWxlPmh0bWwsIGJvZHkge3dpZHRoOiAxMDAlO2hlaWdodDogMTAwJTttYXJnaW46IDA7cGFkZGluZzogMDt9PC9zdHlsZT4KICAgIDxzdHlsZT4jbWFwIHtwb3NpdGlvbjphYnNvbHV0ZTt0b3A6MDtib3R0b206MDtyaWdodDowO2xlZnQ6MDt9PC9zdHlsZT4KICAgIAogICAgICAgICAgICA8c3R5bGU+ICNtYXBfYjEzNjg0OWM2MDViNGFhZmE1YjY3OTNiYmE5NjQwNDIgewogICAgICAgICAgICAgICAgcG9zaXRpb24gOiByZWxhdGl2ZTsKICAgICAgICAgICAgICAgIHdpZHRoIDogMTAwLjAlOwogICAgICAgICAgICAgICAgaGVpZ2h0OiAxMDAuMCU7CiAgICAgICAgICAgICAgICBsZWZ0OiAwLjAlOwogICAgICAgICAgICAgICAgdG9wOiAwLjAlOwogICAgICAgICAgICAgICAgfQogICAgICAgICAgICA8L3N0eWxlPgogICAgICAgIAo8L2hlYWQ+Cjxib2R5PiAgICAKICAgIAogICAgICAgICAgICA8ZGl2IGNsYXNzPSJmb2xpdW0tbWFwIiBpZD0ibWFwX2IxMzY4NDljNjA1YjRhYWZhNWI2NzkzYmJhOTY0MDQyIiA+PC9kaXY+CiAgICAgICAgCjwvYm9keT4KPHNjcmlwdD4gICAgCiAgICAKCiAgICAgICAgICAgIAogICAgICAgICAgICAgICAgdmFyIGJvdW5kcyA9IG51bGw7CiAgICAgICAgICAgIAoKICAgICAgICAgICAgdmFyIG1hcF9iMTM2ODQ5YzYwNWI0YWFmYTViNjc5M2JiYTk2NDA0MiA9IEwubWFwKAogICAgICAgICAgICAgICAgICAgICAgICAgICAgICAgICAgJ21hcF9iMTM2ODQ5YzYwNWI0YWFmYTViNjc5M2JiYTk2NDA0MicsCiAgICAgICAgICAgICAgICAgICAgICAgICAgICAgICAgICB7Y2VudGVyOiBbLTIzLjc2MzUsLTQ2LjY0NDNdLAogICAgICAgICAgICAgICAgICAgICAgICAgICAgICAgICAgem9vbTogMTAsCiAgICAgICAgICAgICAgICAgICAgICAgICAgICAgICAgICBtYXhCb3VuZHM6IGJvdW5kcywKICAgICAgICAgICAgICAgICAgICAgICAgICAgICAgICAgIGxheWVyczogW10sCiAgICAgICAgICAgICAgICAgICAgICAgICAgICAgICAgICB3b3JsZENvcHlKdW1wOiBmYWxzZSwKICAgICAgICAgICAgICAgICAgICAgICAgICAgICAgICAgIGNyczogTC5DUlMuRVBTRzM4NTcKICAgICAgICAgICAgICAgICAgICAgICAgICAgICAgICAgfSk7CiAgICAgICAgICAgIAogICAgICAgIAogICAgCiAgICAgICAgICAgIHZhciB0aWxlX2xheWVyX2NjZDEzYjBlYzk3OTQ1ZGE5MTRiZGNkYjI0YTVmMDhiID0gTC50aWxlTGF5ZXIoCiAgICAgICAgICAgICAgICAnaHR0cHM6Ly97c30udGlsZS5vcGVuc3RyZWV0bWFwLm9yZy97en0ve3h9L3t5fS5wbmcnLAogICAgICAgICAgICAgICAgewogICJhdHRyaWJ1dGlvbiI6IG51bGwsCiAgImRldGVjdFJldGluYSI6IGZhbHNlLAogICJtYXhab29tIjogMTgsCiAgIm1pblpvb20iOiAxLAogICJub1dyYXAiOiBmYWxzZSwKICAic3ViZG9tYWlucyI6ICJhYmMiCn0KICAgICAgICAgICAgICAgICkuYWRkVG8obWFwX2IxMzY4NDljNjA1YjRhYWZhNWI2NzkzYmJhOTY0MDQyKTsKICAgICAgICAKICAgIAogICAgICAgICAgICAgICAgdmFyIHBvbHlfbGluZV8zYzAzYWMxMjZlNzM0OWI1YWIzMWFiMmI4M2EwOGFhYiA9IEwucG9seWxpbmUoCiAgICAgICAgICAgICAgICAgICAgW1stMjMuNzEzLCAtNDYuNjQ0M10sIFstMjMuODE0LCAtNDYuNjQ0M11dLAogICAgICAgICAgICAgICAgICAgIHsKICAiYnViYmxpbmdNb3VzZUV2ZW50cyI6IHRydWUsCiAgImNvbG9yIjogImdyZWVuIiwKICAiZGFzaEFycmF5IjogbnVsbCwKICAiZGFzaE9mZnNldCI6IG51bGwsCiAgImZpbGwiOiBmYWxzZSwKICAiZmlsbENvbG9yIjogImdyZWVuIiwKICAiZmlsbE9wYWNpdHkiOiAwLjIsCiAgImZpbGxSdWxlIjogImV2ZW5vZGQiLAogICJsaW5lQ2FwIjogInJvdW5kIiwKICAibGluZUpvaW4iOiAicm91bmQiLAogICJub0NsaXAiOiBmYWxzZSwKICAib3BhY2l0eSI6IDEuMCwKICAic21vb3RoRmFjdG9yIjogMS4wLAogICJzdHJva2UiOiB0cnVlLAogICJ3ZWlnaHQiOiAzCn0pLmFkZFRvKG1hcF9iMTM2ODQ5YzYwNWI0YWFmYTViNjc5M2JiYTk2NDA0Mik7CiAgICAgICAgICAgIAogICAgCiAgICAgICAgICAgICAgICB2YXIgcG9seV9saW5lXzFhMmI3M2JhZjg2NTQ2YWVhOWFkMjMyMWI1M2JmNGZkID0gTC5wb2x5bGluZSgKICAgICAgICAgICAgICAgICAgICBbWy0yMy42MTMsIC00Ni4wNDQzXSwgWy0yMy43MTMsIC00Ni42NDQzXV0sCiAgICAgICAgICAgICAgICAgICAgewogICJidWJibGluZ01vdXNlRXZlbnRzIjogdHJ1ZSwKICAiY29sb3IiOiAiYmx1ZSIsCiAgImRhc2hBcnJheSI6IG51bGwsCiAgImRhc2hPZmZzZXQiOiBudWxsLAogICJmaWxsIjogZmFsc2UsCiAgImZpbGxDb2xvciI6ICJibHVlIiwKICAiZmlsbE9wYWNpdHkiOiAwLjIsCiAgImZpbGxSdWxlIjogImV2ZW5vZGQiLAogICJsaW5lQ2FwIjogInJvdW5kIiwKICAibGluZUpvaW4iOiAicm91bmQiLAogICJub0NsaXAiOiBmYWxzZSwKICAib3BhY2l0eSI6IDEuMCwKICAic21vb3RoRmFjdG9yIjogMS4wLAogICJzdHJva2UiOiB0cnVlLAogICJ3ZWlnaHQiOiAxCn0pLmFkZFRvKG1hcF9iMTM2ODQ5YzYwNWI0YWFmYTViNjc5M2JiYTk2NDA0Mik7CiAgICAgICAgICAgIAo8L3NjcmlwdD4=\" style=\"position:absolute;width:100%;height:100%;left:0;top:0;border:none !important;\" allowfullscreen webkitallowfullscreen mozallowfullscreen></iframe></div></div>"
      ],
      "text/plain": [
       "<folium.folium.Map at 0x7fd3bc3ae550>"
      ]
     },
     "execution_count": 338,
     "metadata": {},
     "output_type": "execute_result"
    }
   ],
   "source": [
    "cluster_on_map(clusters[0])"
   ]
  },
  {
   "cell_type": "code",
   "execution_count": 340,
   "metadata": {
    "collapsed": false
   },
   "outputs": [
    {
     "name": "stdout",
     "output_type": "stream",
     "text": [
      "\u001b[?1h\u001b=\u001b[H\u001b[2J\u001b[mtop - 01:47:37 up 14:05,  5 users,  load average: 3,00, 2,62, 2,58\u001b[m\u001b[m\u001b[m\u001b[m\u001b[K\n",
      "Tasks:\u001b[m\u001b[m\u001b[1m 231 \u001b[m\u001b[mtotal,\u001b[m\u001b[m\u001b[1m   1 \u001b[m\u001b[mrunning,\u001b[m\u001b[m\u001b[1m 230 \u001b[m\u001b[msleeping,\u001b[m\u001b[m\u001b[1m   0 \u001b[m\u001b[mstopped,\u001b[m\u001b[m\u001b[1m   0 \u001b[m\u001b[mzombie\u001b[m\u001b[m\u001b[m\u001b[m\u001b[K\n",
      "%Cpu(s):\u001b[m\u001b[m\u001b[1m 55,9 \u001b[m\u001b[mus,\u001b[m\u001b[m\u001b[1m  0,5 \u001b[m\u001b[msy,\u001b[m\u001b[m\u001b[1m  0,0 \u001b[m\u001b[mni,\u001b[m\u001b[m\u001b[1m 42,8 \u001b[m\u001b[mid,\u001b[m\u001b[m\u001b[1m  0,7 \u001b[m\u001b[mwa,\u001b[m\u001b[m\u001b[1m  0,0 \u001b[m\u001b[mhi,\u001b[m\u001b[m\u001b[1m  0,0 \u001b[m\u001b[msi,\u001b[m\u001b[m\u001b[1m  0,0 \u001b[m\u001b[mst\u001b[m\u001b[m\u001b[m\u001b[m\u001b[K\n",
      "KiB Mem: \u001b[m\u001b[m\u001b[1m  8072044 \u001b[m\u001b[mtotal,\u001b[m\u001b[m\u001b[1m  5605884 \u001b[m\u001b[mused,\u001b[m\u001b[m\u001b[1m  2466160 \u001b[m\u001b[mfree,\u001b[m\u001b[m\u001b[1m   304320 \u001b[m\u001b[mbuffers\u001b[m\u001b[m\u001b[m\u001b[m\u001b[K\n",
      "KiB Swap:\u001b[m\u001b[m\u001b[1m 24082424 \u001b[m\u001b[mtotal,\u001b[m\u001b[m\u001b[1m        0 \u001b[m\u001b[mused,\u001b[m\u001b[m\u001b[1m 24082424 \u001b[m\u001b[mfree.\u001b[m\u001b[m\u001b[1m  2208844 \u001b[m\u001b[mcached Mem\u001b[m\u001b[m\u001b[m\u001b[m\u001b[K\n",
      "\u001b[K\n",
      "\u001b[7m  PID USER      PR  NI    VIRT    RES    SHR S  %CPU %MEM     TIME+ COMMAND     \u001b[m\u001b[m\u001b[K\n",
      "\u001b[m 2918 luke      20   0  878252 135016  54408 S  94,4  1,7   1:24.15 chrome      \u001b[m\u001b[m\u001b[K\n",
      "\u001b[m 2703 luke      20   0  559560 178928 106376 S  18,9  2,2  12:17.10 chrome      \u001b[m\u001b[m\u001b[K\n",
      "\u001b[m 5198 luke      20   0 1497328 721728 574536 S  18,9  8,9  19:37.97 chrome      \u001b[m\u001b[m\u001b[K\n",
      "\u001b[m 2609 luke      20   0 2080380 435848 150108 S  12,6  5,4  21:16.82 chrome      \u001b[m\u001b[m\u001b[K\n",
      "\u001b[m 1105 root      20   0  289772  43204  32640 S   6,3  0,5   7:11.18 Xorg        \u001b[m\u001b[m\u001b[K\n",
      "\u001b[m 3032 luke      20   0 2366388 211152  54416 S   6,3  2,6   1795:49 chrome      \u001b[m\u001b[m\u001b[K\n",
      "\u001b[m    1 root      20   0   33920   4436   2692 S   0,0  0,1   0:01.48 init        \u001b[m\u001b[m\u001b[K\n",
      "\u001b[m    2 root      20   0       0      0      0 S   0,0  0,0   0:00.00 kthreadd    \u001b[m\u001b[m\u001b[K\n",
      "\u001b[m    3 root      20   0       0      0      0 S   0,0  0,0   0:00.03 ksoftirqd/0 \u001b[m\u001b[m\u001b[K\n",
      "\u001b[m    5 root       0 -20       0      0      0 S   0,0  0,0   0:00.00 kworker/0:+ \u001b[m\u001b[m\u001b[K\n",
      "\u001b[m    7 root      20   0       0      0      0 S   0,0  0,0   0:19.74 rcu_sched   \u001b[m\u001b[m\u001b[K\n",
      "\u001b[m    8 root      20   0       0      0      0 S   0,0  0,0   0:00.00 rcu_bh      \u001b[m\u001b[m\u001b[K\n",
      "\u001b[m    9 root      20   0       0      0      0 S   0,0  0,0   0:04.82 rcuos/0     \u001b[m\u001b[m\u001b[K\n",
      "\u001b[m   10 root      20   0       0      0      0 S   0,0  0,0   0:00.00 rcuob/0     \u001b[m\u001b[m\u001b[K\n",
      "\u001b[m   11 root      rt   0       0      0      0 S   0,0  0,0   0:00.03 migration/0 \u001b[m\u001b[m\u001b[K\n",
      "\u001b[m   12 root      rt   0       0      0      0 S   0,0  0,0   0:00.14 watchdog/0  \u001b[m\u001b[m\u001b[K\n",
      "\u001b[m   13 root      rt   0       0      0      0 S   0,0  0,0   0:00.14 watchdog/1  \u001b[m\u001b[m\u001b[K\u001b[H\u001b[mtop - 01:47:40 up 14:05,  5 users,  load average: 2,92, 2,61, 2,58\u001b[m\u001b[m\u001b[m\u001b[m\u001b[K\n",
      "Tasks:\u001b[m\u001b[m\u001b[1m 231 \u001b[m\u001b[mtotal,\u001b[m\u001b[m\u001b[1m   1 \u001b[m\u001b[mrunning,\u001b[m\u001b[m\u001b[1m 230 \u001b[m\u001b[msleeping,\u001b[m\u001b[m\u001b[1m   0 \u001b[m\u001b[mstopped,\u001b[m\u001b[m\u001b[1m   0 \u001b[m\u001b[mzombie\u001b[m\u001b[m\u001b[m\u001b[m\u001b[K\n",
      "%Cpu(s):\u001b[m\u001b[m\u001b[1m 70,1 \u001b[m\u001b[mus,\u001b[m\u001b[m\u001b[1m  4,6 \u001b[m\u001b[msy,\u001b[m\u001b[m\u001b[1m  0,0 \u001b[m\u001b[mni,\u001b[m\u001b[m\u001b[1m 25,1 \u001b[m\u001b[mid,\u001b[m\u001b[m\u001b[1m  0,2 \u001b[m\u001b[mwa,\u001b[m\u001b[m\u001b[1m  0,0 \u001b[m\u001b[mhi,\u001b[m\u001b[m\u001b[1m  0,0 \u001b[m\u001b[msi,\u001b[m\u001b[m\u001b[1m  0,0 \u001b[m\u001b[mst\u001b[m\u001b[m\u001b[m\u001b[m\u001b[K\n",
      "KiB Mem: \u001b[m\u001b[m\u001b[1m  8072044 \u001b[m\u001b[mtotal,\u001b[m\u001b[m\u001b[1m  5645712 \u001b[m\u001b[mused,\u001b[m\u001b[m\u001b[1m  2426332 \u001b[m\u001b[mfree,\u001b[m\u001b[m\u001b[1m   304320 \u001b[m\u001b[mbuffers\u001b[m\u001b[m\u001b[m\u001b[m\u001b[K\n",
      "KiB Swap:\u001b[m\u001b[m\u001b[1m 24082424 \u001b[m\u001b[mtotal,\u001b[m\u001b[m\u001b[1m        0 \u001b[m\u001b[mused,\u001b[m\u001b[m\u001b[1m 24082424 \u001b[m\u001b[mfree.\u001b[m\u001b[m\u001b[1m  2254608 \u001b[m\u001b[mcached Mem\u001b[m\u001b[m\u001b[m\u001b[m\u001b[K\n",
      "\u001b[K\n",
      "\n",
      "\u001b[m 3032 luke      20   0 2366388 211152  54416 S 198,7  2,6   1795:55 chrome      \u001b[m\u001b[m\u001b[K\n",
      "\u001b[m 5198 luke      20   0 1509400 733484 586488 S  50,6  9,1  19:39.49 chrome      \u001b[m\u001b[m\u001b[K\n",
      "\u001b[m 2703 luke      20   0  605024 222360 149808 S  17,3  2,8  12:17.62 chrome      \u001b[m\u001b[m\u001b[K\n",
      "\u001b[m 2918 luke      20   0  881956 130240  54408 S  11,6  1,6   1:24.50 chrome      \u001b[m\u001b[m\u001b[K\n",
      "\u001b[m 2609 luke      20   0 2072184 436544 150264 S   9,3  5,4  21:17.10 chrome      \u001b[m\u001b[m\u001b[K\n",
      "\u001b[m 1105 root      20   0  289772  43204  32640 S   4,7  0,5   7:11.32 Xorg        \u001b[m\u001b[m\u001b[K\n",
      "\u001b[m 1828 luke      20   0  939168  88084  35652 S   2,3  1,1   4:23.87 gala        \u001b[m\u001b[m\u001b[K\n",
      "\u001b[m 5233 luke      20   0 1847552 216496  78764 S   0,7  2,7   0:44.30 python      \u001b[m\u001b[m\u001b[K\n",
      "\u001b[m 2007 luke      20   0 3099016 145240  44152 S   0,3  1,8   0:29.15 dropbox     \u001b[m\u001b[m\u001b[K\n",
      "\u001b[m 2894 luke      20   0  779136  82180  52444 S   0,3  1,0   0:03.57 chrome      \u001b[m\u001b[m\u001b[K\n",
      "\u001b[m 2912 luke      20   0  844248 139588  54712 S   0,3  1,7   0:50.29 chrome      \u001b[m\u001b[m\u001b[K\n",
      "\u001b[m20540 root      20   0       0      0      0 S   0,3  0,0   0:00.04 kworker/3:0 \u001b[m\u001b[m\u001b[K\n",
      "\u001b[m\u001b[1m21108 luke      20   0   26208   2996   2448 R   0,3  0,0   0:00.01 top         \u001b[m\u001b[m\u001b[K\n",
      "\u001b[m    1 root      20   0   33920   4436   2692 S   0,0  0,1   0:01.48 init        \u001b[m\u001b[m\u001b[K\n",
      "\u001b[m    2 root      20   0       0      0      0 S   0,0  0,0   0:00.00 kthreadd    \u001b[m\u001b[m\u001b[K\n",
      "\u001b[m    3 root      20   0       0      0      0 S   0,0  0,0   0:00.03 ksoftirqd/0 \u001b[m\u001b[m\u001b[K\n",
      "\u001b[m    5 root       0 -20       0      0      0 S   0,0  0,0   0:00.00 kworker/0:+ \u001b[m\u001b[m\u001b[K\u001b[?1l\u001b>\u001b[25;1H\n",
      "\u001b[K\n"
     ]
    }
   ],
   "source": []
  },
  {
   "cell_type": "code",
   "execution_count": null,
   "metadata": {
    "collapsed": true
   },
   "outputs": [],
   "source": []
  }
 ],
 "metadata": {
  "kernelspec": {
   "display_name": "Python 3",
   "language": "python",
   "name": "python3"
  },
  "language_info": {
   "codemirror_mode": {
    "name": "ipython",
    "version": 3
   },
   "file_extension": ".py",
   "mimetype": "text/x-python",
   "name": "python",
   "nbconvert_exporter": "python",
   "pygments_lexer": "ipython3",
   "version": "3.5.4"
  }
 },
 "nbformat": 4,
 "nbformat_minor": 0
}
